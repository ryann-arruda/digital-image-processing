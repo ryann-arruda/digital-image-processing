{
  "nbformat": 4,
  "nbformat_minor": 0,
  "metadata": {
    "colab": {
      "provenance": []
    },
    "kernelspec": {
      "name": "python3",
      "display_name": "Python 3"
    },
    "language_info": {
      "name": "python"
    }
  },
  "cells": [
    {
      "cell_type": "code",
      "source": [
        "from google.colab import drive\n",
        "drive.mount(\"Drive\")"
      ],
      "metadata": {
        "colab": {
          "base_uri": "https://localhost:8080/"
        },
        "id": "tgXFKTLR2D9F",
        "outputId": "66d0d426-297d-4f73-f52f-645b3ba0cc2b"
      },
      "execution_count": null,
      "outputs": [
        {
          "output_type": "stream",
          "name": "stdout",
          "text": [
            "Mounted at Drive\n"
          ]
        }
      ]
    },
    {
      "cell_type": "markdown",
      "source": [
        "## **Dependencies**"
      ],
      "metadata": {
        "id": "dOE2mfOO18EH"
      }
    },
    {
      "cell_type": "code",
      "source": [
        "from PIL import Image\n",
        "import matplotlib.pyplot as plt\n",
        "import numpy as np\n",
        "import os"
      ],
      "metadata": {
        "id": "IeAOPr6p2aDp"
      },
      "execution_count": null,
      "outputs": []
    },
    {
      "cell_type": "markdown",
      "source": [
        "## **Implementation of Techniques**"
      ],
      "metadata": {
        "id": "zOj1M7Vg2lYK"
      }
    },
    {
      "cell_type": "markdown",
      "source": [
        "### **Loading and Displaying an Image**"
      ],
      "metadata": {
        "id": "F0Ks9T9y3KsV"
      }
    },
    {
      "cell_type": "code",
      "source": [
        "os.chdir(\"/content/Drive/MyDrive/@DIP/Images\")\n",
        "os.getcwd()\n",
        "os.listdir()"
      ],
      "metadata": {
        "colab": {
          "base_uri": "https://localhost:8080/"
        },
        "id": "uOGSRdou3Wx7",
        "outputId": "fefa0db3-0e0f-4d58-a5bd-59460a5e566e"
      },
      "execution_count": null,
      "outputs": [
        {
          "output_type": "execute_result",
          "data": {
            "text/plain": [
              "['DancingInWater.jpg',\n",
              " 'testpat.1k.color.tif',\n",
              " 'Shapes.png',\n",
              " 'fruits.jpg',\n",
              " 'witch.png',\n",
              " 'lenna.png']"
            ]
          },
          "metadata": {},
          "execution_count": 13
        }
      ]
    }
  ]
}